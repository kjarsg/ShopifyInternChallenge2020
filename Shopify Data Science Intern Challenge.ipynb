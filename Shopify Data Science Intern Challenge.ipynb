{
 "cells": [
  {
   "cell_type": "markdown",
   "metadata": {},
   "source": [
    "# Winter 2021 Data Science Intern Challenge \n",
    "\n",
    "Question 1: On Shopify, we have exactly 100 sneaker shops, and each of these shops sells only one model of shoe. We want to do some analysis of the average order value (AOV). When we look at orders data over a 30 day window, we naively calculate an AOV of $3145.13. Given that we know these shops are selling sneakers, a relatively affordable item, something seems wrong with our analysis. \n",
    "\n",
    "1.a: Think about what could be going wrong with our calculation. ANSWER = mean is inaccurate, high standard deviation\n",
    "1.b: What metric would you report for this dataset? ANSWER = median, the mean is skewed high due to outlier data\n",
    "1.c: What is its value? ANSWER = $284\n",
    "\n"
   ]
  },
  {
   "cell_type": "code",
   "execution_count": 85,
   "metadata": {},
   "outputs": [
    {
     "name": "stdout",
     "output_type": "stream",
     "text": [
      "<class 'pandas.core.frame.DataFrame'>\n",
      "RangeIndex: 5000 entries, 0 to 4999\n",
      "Data columns (total 7 columns):\n",
      " #   Column          Non-Null Count  Dtype \n",
      "---  ------          --------------  ----- \n",
      " 0   order_id        5000 non-null   int64 \n",
      " 1   shop_id         5000 non-null   int64 \n",
      " 2   user_id         5000 non-null   int64 \n",
      " 3   order_amount    5000 non-null   int64 \n",
      " 4   total_items     5000 non-null   int64 \n",
      " 5   payment_method  5000 non-null   object\n",
      " 6   created_at      5000 non-null   object\n",
      "dtypes: int64(5), object(2)\n",
      "memory usage: 273.6+ KB\n",
      "None\n",
      "          order_id      shop_id      user_id   order_amount  total_items\n",
      "count  5000.000000  5000.000000  5000.000000    5000.000000   5000.00000\n",
      "mean   2500.500000    50.078800   849.092400    3145.128000      8.78720\n",
      "std    1443.520003    29.006118    87.798982   41282.539349    116.32032\n",
      "min       1.000000     1.000000   607.000000      90.000000      1.00000\n",
      "25%    1250.750000    24.000000   775.000000     163.000000      1.00000\n",
      "50%    2500.500000    50.000000   849.000000     284.000000      2.00000\n",
      "75%    3750.250000    75.000000   925.000000     390.000000      3.00000\n",
      "max    5000.000000   100.000000   999.000000  704000.000000   2000.00000\n"
     ]
    }
   ],
   "source": [
    "import pandas as pd # using pandas library for data analysis\n",
    "dataFrame = pd.read_csv(\"2019 Winter Data Science Intern Challenge Data Set - Sheet1.csv\")\n",
    "\n",
    "print(dataFrame.info()) # looking at column names, any missing values, data types.\n",
    "\n",
    "print(dataFrame.describe()) # Looking at summary statistics of the data\n",
    "# The value $3145.13 is taken from calculating the mean value of order_amount\n",
    "# The mean is a poor measure of central tendency in this data due to a high standard deviation ($41,282.54)\n",
    "# The high standard deviation is caused by outlier data such as $704,000 for 2000 shoes, compared to $90 per one item.\n",
    "# Because the mean is skewed higher, I would use the median ($284,2 items) as a more accurate description of central tendency"
   ]
  },
  {
   "cell_type": "code",
   "execution_count": 72,
   "metadata": {},
   "outputs": [
    {
     "name": "stdout",
     "output_type": "stream",
     "text": [
      "2       1832\n",
      "1       1830\n",
      "3        941\n",
      "4        293\n",
      "5         77\n",
      "2000      17\n",
      "6          9\n",
      "8          1\n",
      "Name: total_items, dtype: int64\n",
      "      shop_id  order_amount  total_items\n",
      "15         42        704000         2000\n",
      "60         42        704000         2000\n",
      "520        42        704000         2000\n",
      "1104       42        704000         2000\n",
      "1362       42        704000         2000\n",
      "1436       42        704000         2000\n",
      "1562       42        704000         2000\n",
      "1602       42        704000         2000\n",
      "2153       42        704000         2000\n",
      "2297       42        704000         2000\n",
      "2835       42        704000         2000\n",
      "2969       42        704000         2000\n",
      "3332       42        704000         2000\n",
      "4056       42        704000         2000\n",
      "4646       42        704000         2000\n",
      "4868       42        704000         2000\n",
      "4882       42        704000         2000\n",
      "\n",
      "price per shoe = $ 352.0\n"
     ]
    }
   ],
   "source": [
    "#going to look further into the data for any outliers and to ensure median is the best fit.\n",
    "print(dataFrame.total_items.value_counts()) #we can see here that the majority of orders were for 1 or 2 items.\n",
    "\n",
    "columnList = ['shop_id','order_amount','total_items']\n",
    "print(dataFrame.loc[dataFrame.order_amount == dataFrame.order_amount.max(),columnList])\n",
    "#only 17/5000 orders were for 2000 items.\n",
    "#all from the same shop. Price per shoe = $352, which seems high but not completely unrealistic.\n",
    "print(\"\\nprice per shoe = $\",dataFrame.order_amount.max() / dataFrame.total_items.max())"
   ]
  },
  {
   "cell_type": "code",
   "execution_count": 91,
   "metadata": {},
   "outputs": [
    {
     "name": "stdout",
     "output_type": "stream",
     "text": [
      "      shop_id  order_amount  total_items\n",
      "160        78         25725            1\n",
      "490        78         51450            2\n",
      "493        78         51450            2\n",
      "511        78         51450            2\n",
      "617        78         51450            2\n",
      "691        78        154350            6\n",
      "1056       78         25725            1\n",
      "1193       78         25725            1\n",
      "1204       78         25725            1\n",
      "1259       78         77175            3\n",
      "\n",
      "Only two shops have order amounts above the mean, Shops # [42 78]\n",
      "      shop_id  order_amount  total_items\n",
      "160        78         25725            1\n",
      "490        78         51450            2\n",
      "493        78         51450            2\n",
      "511        78         51450            2\n",
      "617        78         51450            2\n",
      "691        78        154350            6\n",
      "1056       78         25725            1\n",
      "1193       78         25725            1\n",
      "1204       78         25725            1\n",
      "1259       78         77175            3\n",
      "1384       78         25725            1\n",
      "1419       78         25725            1\n",
      "1452       78         25725            1\n",
      "1529       78         51450            2\n",
      "2270       78         25725            1\n",
      "2452       78         51450            2\n",
      "2492       78        102900            4\n",
      "2495       78         51450            2\n",
      "2512       78         51450            2\n",
      "2548       78         25725            1\n",
      "2564       78         77175            3\n",
      "2690       78         77175            3\n",
      "2773       78         25725            1\n",
      "2818       78         51450            2\n",
      "2821       78         51450            2\n",
      "2906       78         77175            3\n",
      "2922       78         25725            1\n",
      "3085       78         25725            1\n",
      "3101       78         51450            2\n",
      "3151       78         25725            1\n",
      "3167       78         51450            2\n",
      "3403       78         77175            3\n",
      "3440       78         25725            1\n",
      "3705       78         51450            2\n",
      "3724       78         77175            3\n",
      "3780       78         25725            1\n",
      "4040       78         25725            1\n",
      "4079       78         51450            2\n",
      "4192       78         77175            3\n",
      "4311       78         51450            2\n",
      "4412       78         51450            2\n",
      "4420       78         77175            3\n",
      "4505       78         25725            1\n",
      "4584       78         25725            1\n",
      "4715       78         77175            3\n",
      "4918       78         25725            1\n",
      "\n",
      "Calculating mean without outlier data = order_amount    300.155823\n",
      "total_items       1.995717\n",
      "dtype: float64\n"
     ]
    }
   ],
   "source": [
    " #looking at other large order values that could skew average.\n",
    "print(dataFrame.loc[(dataFrame.order_amount > dataFrame.order_amount.mean()) & (dataFrame.shop_id != 42),columnList].head(10))\n",
    "#only shop 42 and 78 have order amounts above the mean\n",
    "print(\"\\nOnly two shops have order amounts above the mean, Shops #\",\n",
    "      dataFrame.loc[dataFrame.order_amount > dataFrame.order_amount.mean(),columnList].shop_id.unique())\n",
    "\n",
    "#we can see shop_id 78 is selling shoes for $25,725 per item. Data error ?\n",
    "print(dataFrame.loc[dataFrame.shop_id == 78,columnList])\n",
    "#calculating a mean without those data points gives us an average of $300, per 2 items, which closely resembles the median.\n",
    "print(\"\\nCalculating mean without outlier data =\",\n",
    "      dataFrame.loc[(dataFrame.shop_id != 78) & (dataFrame.shop_id !=42),[\"order_amount\",\"total_items\"]].mean())"
   ]
  },
  {
   "cell_type": "markdown",
   "metadata": {},
   "source": [
    "Question 2.a: How many orders were shipped by Speedy Express in total? ANSWER = 54.\n",
    "\n",
    "SELECT COUNT(ShipperName)\n",
    "FROM Orders\n",
    "JOIN Shippers ON Orders.ShipperID = Shippers.ShipperID\n",
    "WHERE ShipperName = \"Speedy Express\";"
   ]
  },
  {
   "cell_type": "markdown",
   "metadata": {},
   "source": [
    "Question 2.b: What is the last name of the employee with the most orders? ANSWER = Peacock.\n",
    "\n",
    "SELECT LastName, COUNT(LastName) AS amount\n",
    "FROM Employees\n",
    "JOIN orders ON employees.EmployeeID = orders.employeeID\n",
    "GROUP BY LastName\n",
    "ORDER BY amount DESC;"
   ]
  },
  {
   "cell_type": "markdown",
   "metadata": {},
   "source": [
    "Question 2.c: What product was ordered the most by customers in Germany? ANSWER = Boston Crab Meat.\n",
    "\n",
    "SELECT Country, ProductName, Sum(Quantity)\n",
    "FROM Customers\n",
    "JOIN orders ON customers.customerID = orders.customerID\n",
    "JOIN orderDetails ON orders.OrderID = orderDetails.OrderID\n",
    "JOIN Products ON orderDetails.productID = products.productID\n",
    "WHERE Country = \"Germany\"\n",
    "GROUP BY ProductName\n",
    "ORDER BY Sum(Quantity) DESC;"
   ]
  }
 ],
 "metadata": {
  "kernelspec": {
   "display_name": "Python 3",
   "language": "python",
   "name": "python3"
  },
  "language_info": {
   "codemirror_mode": {
    "name": "ipython",
    "version": 3
   },
   "file_extension": ".py",
   "mimetype": "text/x-python",
   "name": "python",
   "nbconvert_exporter": "python",
   "pygments_lexer": "ipython3",
   "version": "3.7.6"
  }
 },
 "nbformat": 4,
 "nbformat_minor": 4
}
